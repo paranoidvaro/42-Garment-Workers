{
 "cells": [
  {
   "cell_type": "markdown",
   "id": "cebe51d4",
   "metadata": {},
   "source": [
    "Team $42$:\n",
    "\n",
    "$$ Valerio\\; Romano\\; Cadura $$\n",
    "\n",
    "$$ Muhammed\\;Khair\\;Hindawi $$\n",
    "\n",
    "$$ Ferdinando\\; Giordano $$\n",
    "\n",
    "$$ Lorenzo\\; Mainetti $$"
   ]
  },
  {
   "cell_type": "markdown",
   "id": "8590299f",
   "metadata": {},
   "source": [
    "#  **Garment Workers**\n",
    "\n",
    "This dataset encapsulates crucial features of the apparel manufacturing workflow and employee productivity, compiled through manual data gathering, and subsequently verified by domain experts. Data collection spans multiple days throughout the year, and each observation (or row) manifests various properties associated with a dedicated worker group assigned to a specific task.\n",
    "\n",
    "A brief overview and interpretation of the dataset attributes is provided as follows:\n",
    "\n",
    "- `date`: This attribute records the date of data collection.\n",
    "- `quarter`: This attribute divides the month into four quarters, indicating the specific portion of the month for each record.\n",
    "- `department`: This feature indicates the department to which the concerned team is associated.\n",
    "- `day`: This denotes the specific day of the week.\n",
    "- `team`: This represents the team number associated with each record.\n",
    "- `targeted_productivity`: This is the productivity goal established by the management for a particular team on a specific day.\n",
    "- `smv`: This denotes the Standard Minute Value, i.e., the predetermined time allocated for a given task.\n",
    "- `wip`: This refers to 'Work in Progress', quantifying the number of unfinished product items.\n",
    "- `over_time`: This feature records the overtime duration in minutes incurred by each team.\n",
    "- `idle_time`: This captures the duration during which the production was halted due to various factors.\n",
    "- `idle_men`: This reflects the count of employees who remained unoccupied due to the aforementioned production interruptions.\n",
    "- `no_of_workers`: This indicates the headcount in each team.\n",
    "- `actual_productivity`: This records the actual productivity percentage accomplished by the workers, with values ranging between 0 and 1."
   ]
  },
  {
   "cell_type": "markdown",
   "id": "0bc31cf2",
   "metadata": {},
   "source": [
    "## Methodology\n",
    "\n",
    "The methodology we followed to build and compare the models is as follows:\n",
    "\n",
    "![Image description](diag1.jpg)"
   ]
  },
  {
   "cell_type": "markdown",
   "id": "4f62a89f",
   "metadata": {},
   "source": [
    "## **Loading the libraries**"
   ]
  },
  {
   "cell_type": "code",
   "execution_count": 2,
   "id": "9a37dc89",
   "metadata": {},
   "outputs": [],
   "source": [
    "# # plotting\n",
    "library(dplyr)\n",
    "library(ggplot2)\n",
    "library(plotly)\n",
    "library(gridExtra)\n",
    "library(corrplot)\n",
    "library(tidyr)\n",
    "library(knitr)\n",
    "# # imputation\n",
    "library(caret)\n",
    "library(missRanger)\n",
    "# # modelling\n",
    "library(glmnet)\n",
    "library(mgcv)\n",
    "library(randomForest)\n",
    "library(pROC)\n",
    "library(Metrics)\n",
    "library(MLmetrics)\n",
    "# # no warnings\n",
    "options(warn = -1)"
   ]
  },
  {
   "cell_type": "markdown",
   "id": "3fe151cc",
   "metadata": {},
   "source": [
    "## **Loading the data**"
   ]
  },
  {
   "cell_type": "code",
   "execution_count": 3,
   "id": "c43cd6e0",
   "metadata": {},
   "outputs": [],
   "source": [
    "# reading the data\n",
    "garment_data <- read.csv(\"dataset/GarmentsWorkerProductivity.csv\")"
   ]
  },
  {
   "cell_type": "markdown",
   "id": "85cc47aa",
   "metadata": {},
   "source": [
    "Upon scrutinizing the dataset table, it becomes clear that several intriguing attributes warrant discussion. The initial observation is that the `wip` column contains missing data, with only $691$ entries out of $1197$, signifying gaps in the information collected. Furthermore, columns such as `wip`, `over_time`, `incentive`, `idle_time`, `idle_men`, and `no_of_workers` exhibit maximum values that significantly exceed their respective $75_{th}$ percentiles. This observation implies the potential existence of outliers within the dataset. \n",
    "\n",
    "Interestingly, `targeted_productivity` shows a comparably narrow range, hinting at the presence of rigorous productivity objectives the factory endeavors to fulfill. A noteworthy level of overtime suggests that meeting production goals within standard working hours may be a challenge for the factory. The workforce size also demonstrates variability, ranging from $2$ to $89$, indicative of fluctuating employment based on production demands.\n",
    "\n",
    "The aspects of `idle_time` and `idle_men` merit special attention as they reflect potential productivity issues within the factory operations. A relatively minimal average `idle_time`, coupled with a maximum of $300$ minutes, infers the possibility of production halts or other factors leading to wastage of time. Similarly, the maximum of $45$ `idle_men` suggests potential inefficiencies in workforce utilization or the production process. \n",
    "\n",
    "Notably, the dataset is free from duplicates and lacks any columns with uniform values across all entries. "
   ]
  },
  {
   "cell_type": "markdown",
   "id": "f6e23967",
   "metadata": {},
   "source": [
    "# **Data cleaning and preprocessing**"
   ]
  },
  {
   "cell_type": "markdown",
   "id": "a46a9046",
   "metadata": {},
   "source": [
    "## **Check for missing values and handle them accordingly**."
   ]
  },
  {
   "cell_type": "code",
   "execution_count": 4,
   "id": "94bd656b",
   "metadata": {},
   "outputs": [
    {
     "name": "stdout",
     "output_type": "stream",
     "text": [
      "                 date               quarter            department \n",
      "                    0                     0                     0 \n",
      "                  day                  team targeted_productivity \n",
      "                    0                     0                     0 \n",
      "                  smv                   wip             over_time \n",
      "                    0                   506                     0 \n",
      "            incentive             idle_time              idle_men \n",
      "                    0                     0                     0 \n",
      "   no_of_style_change         no_of_workers   actual_productivity \n",
      "                    0                     0                     0 \n"
     ]
    }
   ],
   "source": [
    "# Check for missing values\n",
    "missing_values <- colSums(is.na(garment_data))\n",
    "print(missing_values)"
   ]
  },
  {
   "cell_type": "markdown",
   "id": "f358b095",
   "metadata": {},
   "source": [
    "The analysis above reveals a substantial number of missing values in the `wip` column, a situation far from optimal. Discarding or eliminating these missing entries is unfeasible as it would result in a loss of approximately half of the dataset. Therefore, the most suitable strategy in this case would be imputation."
   ]
  },
  {
   "cell_type": "markdown",
   "id": "4fdee685",
   "metadata": {},
   "source": [
    "## Encode categorical variables"
   ]
  },
  {
   "cell_type": "code",
   "execution_count": 5,
   "id": "fcb17a98",
   "metadata": {},
   "outputs": [],
   "source": [
    "# Convert the categorical variables to factors using label encoding\n",
    "garment_data_encoded <- garment_data\n",
    "\n",
    "garment_data_encoded$day <- as.numeric(factor(garment_data_encoded$day))\n",
    "garment_data_encoded$department <- as.numeric(factor(garment_data_encoded$department))\n",
    "garment_data_encoded$quarter <- as.numeric(factor(garment_data_encoded$quarter))"
   ]
  },
  {
   "cell_type": "markdown",
   "id": "6a7b5da1",
   "metadata": {},
   "source": [
    "## Convert date column to Date type"
   ]
  },
  {
   "cell_type": "code",
   "execution_count": 6,
   "id": "4fc445d1",
   "metadata": {},
   "outputs": [],
   "source": [
    "# Convert the 'date' column to Date type\n",
    "garment_data_encoded$date <- as.Date(garment_data_encoded$date, format = \"%m/%d/%Y\")"
   ]
  },
  {
   "cell_type": "markdown",
   "id": "eca32140",
   "metadata": {},
   "source": [
    "## Imputation of missing values"
   ]
  },
  {
   "cell_type": "markdown",
   "id": "c0ab5609",
   "metadata": {},
   "source": [
    "In our investigation, we have chosen to employ multiple imputation methods, specifically MICE, median, and Random Forest imputation, to accurately fill the missing data. The rationale behind this approach is grounded in the principles of robustness and adaptability in statistical analysis.\n",
    "\n",
    "- **MICE**: The Multiple Imputation by Chained Equations (MICE) method provides a comprehensive strategy that can account for the inherent uncertainty around missing values.\n",
    "- **Median**: Median imputation is a relatively simple method, where the median value of a variable is used to replace its missing values. Median is chosen due to its robustness to outliers when compared to the mean.\n",
    "- **Random Forest**: Random Forest imputation provides a robust approach for handling missing data by leveraging the strengths of Random Forest models. It captures complex non-linear relationships among variables and handles interactions between variables implicitly, which enables more accurate imputations. "
   ]
  },
  {
   "cell_type": "code",
   "execution_count": 7,
   "id": "2287e3d5",
   "metadata": {},
   "outputs": [
    {
     "name": "stdout",
     "output_type": "stream",
     "text": [
      "\n",
      "Missing value imputation by random forests\n",
      "\n",
      "  Variables to impute:\t\twip\n",
      "  Variables used to impute:\tdate, quarter, department, day, team, targeted_productivity, smv, wip, over_time, incentive, idle_time, idle_men, no_of_style_change, no_of_workers, actual_productivity\n",
      "\n",
      "iter 1\n",
      "  |======================================================================| 100%\n",
      "iter 2\n",
      "  |======================================================================| 100%\n",
      "iter 3\n",
      "  |======================================================================| 100%\n"
     ]
    }
   ],
   "source": [
    "# Random Forest imputation\n",
    "\n",
    "# Set a seed for reproducibility\n",
    "set.seed(42)\n",
    "\n",
    "# Apply RF imputation only to the wip column\n",
    "garment_data_rf <- missRanger(garment_data_encoded, pmm.k = 5, variables = \"wip\", num.trees = 10)"
   ]
  },
  {
   "cell_type": "code",
   "execution_count": 8,
   "id": "dd5059d3",
   "metadata": {
    "scrolled": false
   },
   "outputs": [
    {
     "data": {
      "image/png": "[encoded data removed]",
      "text/plain": [
       "plot without title"
      ]
     },
     "metadata": {
      "image/png": {
       "height": 420,
       "width": 420
      }
     },
     "output_type": "display_data"
    }
   ],
   "source": [
    "# Original dataset\n",
    "p_original <- ggplot(garment_data_encoded, aes(x = wip)) +\n",
    "  geom_density(fill = \"blue\", alpha = 0.5) +\n",
    "  theme_minimal() +\n",
    "  labs(title = \"Original\", x = \"WIP\") + theme(text = element_text(size = 15))\n",
    "\n",
    "# RF imputation\n",
    "p_rf <- ggplot(garment_data_rf, aes(x = wip)) +\n",
    "  geom_density(fill = \"purple\", alpha = 0.5) +\n",
    "  theme_minimal() +\n",
    "  labs(title = \"RF Imputation\", x = \"WIP\") + theme(text = element_text(size = 15))\n",
    "\n",
    "# Combine plots\n",
    "grid.arrange(p_original,p_rf, ncol = 2, nrow = 1)"
   ]
  },
  {
   "cell_type": "markdown",
   "id": "da7eb3c0",
   "metadata": {},
   "source": [
    "From our analysis, it becomes apparent that the Random Forest approach provides the most optimal imputation method for our dataset. Importantly, this technique maintains the integrity of the original data distribution, inducing minimal distortion."
   ]
  },
  {
   "cell_type": "markdown",
   "id": "ba1b0da9",
   "metadata": {},
   "source": [
    "## Checking for outliers"
   ]
  },
  {
   "cell_type": "markdown",
   "id": "e99ab6d6",
   "metadata": {},
   "source": [
    "In the course of the data assessment, it is observed that the dataset contains outliers. Without more detailed context, it is challenging to determine if these outliers result from measurement or processing anomalies. Consequently, immediate outlier removal would be precipitous as these values could be representing significant extreme situations, such as mechanical failures or power disruptions.\n",
    "\n",
    "These outliers likely reflect genuine variability in the data, thereby warranting their retention in the dataset. Additionally, it is crucial to conduct a comprehensive evaluation of these outliers to devise appropriate strategies for managing them.\n",
    "\n",
    "Moreover, it is notable that some data distributions deviate from normality. However, as the analytical focus of this study does not involve linear models or algorithms that necessitate the assumption of normally distributed data, normalizing these skewed columns is not deemed essential. It should be acknowledged that transformation attempts, including the $BoxCox$ and $Log$ methods, were tested. However, these strategies failed to satisfy the requirements of the normality test.\n",
    "\n",
    "Upon successful data cleaning, the study now proceeds to the exploratory phase, delving into the interrelationships among the dataset variables."
   ]
  },
  {
   "cell_type": "markdown",
   "id": "17b28658",
   "metadata": {},
   "source": [
    "## Exploring the Variables"
   ]
  },
  {
   "cell_type": "markdown",
   "id": "7b48822d",
   "metadata": {},
   "source": [
    "### Categorical Variables"
   ]
  },
  {
   "cell_type": "markdown",
   "id": "bd4d81a2",
   "metadata": {},
   "source": [
    "#### Analyzing the Quarter column "
   ]
  },
  {
   "cell_type": "code",
   "execution_count": 9,
   "id": "0d024033",
   "metadata": {
    "scrolled": false
   },
   "outputs": [
    {
     "data": {
      "text/plain": [
       "\n",
       "\n",
       "Table: Quarterly Frequency Table\n",
       "\n",
       "| Quarter1 | Quarter2 | Quarter3 | Quarter4 | Quarter5 |\n",
       "|:--------:|:--------:|:--------:|:--------:|:--------:|\n",
       "|   360    |   335    |   210    |   248    |    44    |"
      ]
     },
     "metadata": {},
     "output_type": "display_data"
    }
   ],
   "source": [
    "# create a frequency table\n",
    "freq_table <- table(garment_data$quarter)\n",
    "\n",
    "# transpose the table and format it as a neat way\n",
    "freq_table_transposed <- t(freq_table)\n",
    "kable(freq_table_transposed, align = rep(\"c\", ncol(freq_table_transposed)), caption = \"Quarterly Frequency Table\")"
   ]
  },
  {
   "cell_type": "markdown",
   "id": "08b2828b",
   "metadata": {},
   "source": [
    "The data analysis reveals an intriguing aspect: there are $44$ instances designated as **Quarter 5**, which necessitates further investigation.\n",
    "\n",
    "Upon closer scrutiny, it is discerned that the **Quarter 5** categorization invariably corresponds to the $29_{th}$ and $31_{st}$ dates in the date column. This correlation provides an explanation for the existence of $5$ quarters instead of the customary $4$ in the month of January. Such a phenomenon underlines the importance of detailed data exploration, which can uncover unique patterns and valuable insights. "
   ]
  },
  {
   "cell_type": "markdown",
   "id": "eb2a0ed3",
   "metadata": {},
   "source": [
    "#### Analyzing the Department column"
   ]
  },
  {
   "cell_type": "code",
   "execution_count": 10,
   "id": "8855f1f5",
   "metadata": {},
   "outputs": [
    {
     "data": {
      "text/plain": [
       "\n",
       "\n",
       "Table: Department Frequency Table\n",
       "\n",
       "| finishing | sweing |\n",
       "|:---------:|:------:|\n",
       "|    506    |  691   |"
      ]
     },
     "metadata": {},
     "output_type": "display_data"
    }
   ],
   "source": [
    "# create a frequency table\n",
    "freq_table <- table(garment_data$department)\n",
    "\n",
    "# transpose the table and format it as a neat way\n",
    "freq_table_transposed <- t(freq_table)\n",
    "kable(freq_table_transposed, align = rep(\"c\", ncol(freq_table_transposed)), caption = \"Department Frequency Table\")"
   ]
  },
  {
   "cell_type": "markdown",
   "id": "c47930c4",
   "metadata": {},
   "source": [
    "### Univariate analysis of continuous variables"
   ]
  },
  {
   "cell_type": "markdown",
   "id": "44fbe897",
   "metadata": {},
   "source": [
    "#### Analyzing the number of workers and incentive paid in each month "
   ]
  },
  {
   "cell_type": "code",
   "execution_count": 11,
   "id": "0405f072",
   "metadata": {},
   "outputs": [],
   "source": [
    "garment_data$month_name <- format(as.Date(garment_data$date), \"%B\")"
   ]
  },
  {
   "cell_type": "markdown",
   "id": "42fc6217",
   "metadata": {},
   "source": [
    "An interesting pattern emerges upon examining the workforce and incentive dynamics during the month of September. Despite a reduced workforce size, a high incentive was disbursed, implying an extended working duration beyond normal hours, which is a clear indication of overtime. This raises intriguing questions about the balance of labor and reward in this period."
   ]
  },
  {
   "cell_type": "markdown",
   "id": "da8ca4ca",
   "metadata": {},
   "source": [
    "#### Analyzing the Idle time spent by Teams"
   ]
  },
  {
   "cell_type": "code",
   "execution_count": 12,
   "id": "edfc2025",
   "metadata": {},
   "outputs": [],
   "source": [
    "garment_data_temp <- garment_data\n",
    "garment_data_temp$team <- factor(garment_data_temp$team, levels = 1:10)"
   ]
  },
  {
   "cell_type": "markdown",
   "id": "412c1410",
   "metadata": {},
   "source": [
    "Data highlights Team 8 and 7 as having the highest idle time. "
   ]
  },
  {
   "cell_type": "markdown",
   "id": "7b7b05a9",
   "metadata": {},
   "source": [
    "#### Analyzing the Idle men in Teams"
   ]
  },
  {
   "cell_type": "markdown",
   "id": "46a7e0e8",
   "metadata": {},
   "source": [
    "This observation coincides with the finding that these two teams also record the highest number of `Idle_men`. This synchronicity warrants further investigation as it may imply underlying productivity issues within these teams. Understanding the reason for this correlation can offer valuable insights for managerial decisions and overall process optimization."
   ]
  },
  {
   "cell_type": "markdown",
   "id": "88fdbe5d",
   "metadata": {},
   "source": [
    "### Bivariate Analysis"
   ]
  },
  {
   "cell_type": "markdown",
   "id": "698801a2",
   "metadata": {},
   "source": [
    "#### Productivity Variation Across Days\n",
    "\n",
    "A closer inspection of the daily productivity distribution reveals a relatively uniform mean productivity across all the days. An intriguing observation is the marginally elevated productivity level on Saturdays, registering an average of $0.75$. This could potentially be attributed to the rejuvenating effect of the preceding day, Friday, which is traditionally a day off for many. This illustrates the potential positive influence of regular breaks on work efficiency."
   ]
  },
  {
   "cell_type": "markdown",
   "id": "acf8a535",
   "metadata": {},
   "source": [
    "#### Team-Wise Productivity\n",
    "\n",
    "Upon evaluating the productivity by teams, Team $1$ emerges as the most productive, closely followed by Team $3$. Conversely, Teams $7$ and $8$, along with Team $6$, register relatively lower productivity levels, echoing previous observations about their idleness. This recurring pattern necessitates a more detailed analysis of these teams' operational structure."
   ]
  },
  {
   "cell_type": "markdown",
   "id": "a6e69dcf",
   "metadata": {},
   "source": [
    "#### Incentives Dispensation Among Teams\n",
    "\n",
    "Examining the incentive distribution, it's noteworthy that Team $9$ receives the highest average incentive, which initially appears counter-intuitive and invites a more careful inspection. On deeper analysis, it becomes apparent that an outlier in the **Finishing Department** is contributing to this observation. This finding illustrates how external anomalies can impact the data, making it essential to consider the broader context when interpreting results."
   ]
  },
  {
   "cell_type": "markdown",
   "id": "ea06e27e",
   "metadata": {},
   "source": [
    "#### Overtime Distribution Across Departments\n",
    "\n",
    "Investigating overtime hours reveals that the **Finishing Department**'s average overtime equates to a full day's work. Interestingly, this significant overtime does not correspond with any incentive compensation. On the contrary, the **Sewing Department** exhibits an average of four days' overtime. The lack of correlation between overtime and incentives in certain departments requires further exploration to understand the underlying factors influencing these operational decisions."
   ]
  },
  {
   "cell_type": "markdown",
   "id": "4398823c",
   "metadata": {},
   "source": [
    "### Correlation Analysis"
   ]
  },
  {
   "cell_type": "markdown",
   "id": "77767556",
   "metadata": {},
   "source": [
    "#### Correlation Matrix heatmap analysis to pick the variables that seem interesting"
   ]
  },
  {
   "cell_type": "code",
   "execution_count": 13,
   "id": "aa6f312a",
   "metadata": {},
   "outputs": [
    {
     "data": {
      "image/png": "[encoded data removed]",
      "text/plain": [
       "Plot with title \"\""
      ]
     },
     "metadata": {
      "image/png": {
       "height": 420,
       "width": 420
      }
     },
     "output_type": "display_data"
    }
   ],
   "source": [
    "# Calculate correlation matrix\n",
    "cor_matrix <- cor(garment_data_rf[, sapply(garment_data_rf, is.numeric)])\n",
    "\n",
    "# Visualize the correlation matrix as a heatmap\n",
    "corrplot(cor_matrix, type = \"upper\", order = \"hclust\", \n",
    "         tl.col = \"black\", tl.srt = 45, col = colorRampPalette(c(\"red\", \"white\", \"blue\"))(20))"
   ]
  },
  {
   "cell_type": "markdown",
   "id": "2904a8b6",
   "metadata": {},
   "source": [
    "#### Findings and Results \n",
    "\n",
    "An examination of the correlation matrix reveals some intriguing relationships between pairs of variables within the dataset:\n",
    "\n",
    "- The variables `department` and `smv` exhibit a high positive correlation of $0.87$. This compelling association between the department and the Standard Minute Value (the allocated time for a task) warrants further investigation to understand the potential impact of this relationship on productivity.\n",
    "- The relationship between `department` and `no_of_workers` is similarly strong, with a correlation coefficient of $0.94$. This high correlation suggests that the departmental size and the number of workers are closely intertwined, potentially due to inherent differences in department sizes and their respective staffing requirements.\n",
    "- A positive correlation of $0.67$ exists between `over_time` and `smv`, indicating a relationship between overtime hours and the Standard Minute Value. It suggests that tasks with higher SMVs may necessitate longer overtime hours, a possibility that merits further exploration.\n",
    "- The variables `over_time` and `no_of_workers` demonstrate a significant correlation of $0.73$, implying that teams with larger staff counts are likely to accrue more overtime. This relationship could offer insights into the dynamics of team sizes and their overtime demands.\n",
    "- The variables `idle_time` and `idle_men` share a positive correlation of $0.56$. This correlation suggests a potential relationship between the amount of idle time and the number of idle workers. Such a relationship might indicate that an increase in idle workers could result in an aggregate increase in idle time.\n",
    "- A moderate correlation of $0.32$ exists between `no_of_style_change` and `smv`, suggesting that tasks involving more style changes could be associated with higher SMVs.\n",
    "\n",
    "The relationships between these pairs of variables could prove invaluable when constructing models with reduced dimensions. However, it's critical to bear in mind that correlation does not inherently denote causation. Therefore, these relationships demand further in-depth exploration to uncover the true nature of their interconnectedness."
   ]
  },
  {
   "cell_type": "markdown",
   "id": "bbe98f08",
   "metadata": {},
   "source": [
    "**Statistical Associations with the Dependent Variable**\n",
    "\n",
    "The correlation matrix, a fundamental statistical tool, provides valuable insights into the relationships between the variables in our dataset. One variable of particular interest is actual_productivity, the dependent variable in our study. Several independent variables exhibit noteworthy correlations with actual_productivity, either positively or negatively.\n",
    "\n",
    "- `targeted_productivity`: This variable exhibits a positive correlation of $0.42$ with `actual_productivity`, the most substantial correlation observed in our dataset. This relationship suggests a tendency for `actual_productivity` to increase in tandem with targeted_productivity.\n",
    "\n",
    "- `smv`: The Standard Minute Value (smv) demonstrates a negative correlation of -$0.12$ with `actual_productivity`. This relationship implies that actual_productivity may decrease as smv increases.\n",
    "\n",
    "- `wip`: The Work in Progress (wip) variable shows a positive correlation of $0.20$ with `actual_productivity`. This correlation suggests that actual_productivity may increase as wip increases.\n",
    "\n",
    "- `over_time`: The Overtime variable exhibits a negative correlation of -$0.05$ with `actual_productivity`. This relationship suggests a tendency for actual_productivity to decrease as over_time increases.\n",
    "\n",
    "- `idle_men`: The Idle men variable demonstrates a negative correlation of -$0.18$ with `actual_productivity`. This correlation implies that actual_productivity may decrease as the number of idle_men increases.\n",
    "\n",
    "- `no_of_style_change`: The No of style change variable shows a negative correlation of -$0.21$ with `actual_productivity`. This relationship suggests that actual_productivity may decrease as the no_of_style_change increases.\n",
    "\n",
    "These variables, due to their significant correlations with `actual_productivity`, warrant further investigation in our model-building process. However, it is crucial to remember that correlation does not equate to causation. Therefore, these variables and their relationships with `actual_productivity` require additional exploration to fully understand their dynamics and potential causal mechanisms."
   ]
  },
  {
   "cell_type": "markdown",
   "id": "81074745",
   "metadata": {},
   "source": [
    "# **Task Details - Regression**\n",
    "\n",
    "The primary objective of this study is to conduct a regression analysis on the target variable `actual_productivity` in the context of garment manufacturing enterprises. The dataset provided for this study comes with an example objective, however, the focus of this research has been tailored to meet the specific needs of decision-makers in the garment sector.\n",
    "\n",
    "The global demand for garment items is substantial, and the ability of garment manufacturing enterprises to meet this demand is largely dependent on the performance of their workforce in terms of production and delivery. Consequently, monitoring, evaluating, and forecasting the productivity performance of factory work teams is of paramount importance to decision-makers in the garment industry. They are particularly interested in understanding the factors that significantly influence team productivity.\n",
    "\n",
    "By conducting a regression analysis on the `actual_productivity` variable, this study aims to provide insights into the predictors that have a substantial impact on productivity. The findings of this research could be instrumental in informing strategies for improving productivity performance in garment manufacturing enterprises."
   ]
  },
  {
   "cell_type": "markdown",
   "id": "3d54a8ae",
   "metadata": {},
   "source": [
    "# **Lower Dimensional Modelling**"
   ]
  },
  {
   "cell_type": "markdown",
   "id": "6dbbe695",
   "metadata": {},
   "source": [
    "This part focuses on the investigation of relationships between select variables through the application of lower-dimensional models. The variables of interest include the `department`, Standard Minute Value (`smv`), `No_of_workers`, `Over_time`, and `Idle_time`. The models employed for this analysis include linear regression models with AIC and BIC step selection, decision trees, and regularization models such as Ridge, Lasso, and Elastic Net."
   ]
  },
  {
   "cell_type": "markdown",
   "id": "d8e125f0",
   "metadata": {},
   "source": [
    "![Image description](diag2.jpg)"
   ]
  },
  {
   "cell_type": "markdown",
   "id": "153ea761",
   "metadata": {},
   "source": [
    "## Department and SMV\n",
    "\n",
    "The first model explores the relationship between `department` and `smv`. The linear regression model, with **AIC step selection**, indicates a significant positive relationship between these variables, with the department explaining approximately $76.43$% of the variability in SMV. This relationship is further confirmed by the **decision tree** model."
   ]
  },
  {
   "cell_type": "markdown",
   "id": "7f8f50cd",
   "metadata": {},
   "source": [
    "## **Department and Number of Workers**\n",
    "\n",
    "The second model investigates the relationship between `department` and `No_of_workers`. The linear regression model, with **BIC step selection**, suggests a significant positive relationship between these variables, with the department explaining approximately $88.24$% of the variability in the number of workers. Again the **decision tree** model confirms the relationship found."
   ]
  },
  {
   "cell_type": "markdown",
   "id": "e228385a",
   "metadata": {},
   "source": [
    "## **Overtime and Number of Workers**"
   ]
  },
  {
   "cell_type": "code",
   "execution_count": 14,
   "id": "68b28b59",
   "metadata": {},
   "outputs": [],
   "source": [
    "# Pair 5: over_time and no_of_workers\n",
    "x1 <- cbind(1, garment_data_rf$over_time)\n",
    "y1 <- garment_data_rf$no_of_workers\n",
    "\n",
    "# Pair 6: idle_time and idle_men\n",
    "x2 <- cbind(1, garment_data_rf$idle_time)\n",
    "y2 <- garment_data_rf$idle_men\n",
    "\n",
    "# Perform ridge, lasso, and elastic net regression for both pairs\n",
    "set.seed(42)\n",
    "\n",
    "# Pair 5\n",
    "cv_ridge_1 <- cv.glmnet(x1, y1, alpha = 0)\n",
    "cv_lasso_1 <- cv.glmnet(x1, y1, alpha = 1)\n",
    "cv_elasticnet_1 <- cv.glmnet(x1, y1, alpha = 0.5)\n",
    "\n",
    "# Pair 6\n",
    "cv_ridge_2 <- cv.glmnet(x2, y2, alpha = 0)\n",
    "cv_lasso_2 <- cv.glmnet(x2, y2, alpha = 1)\n",
    "cv_elasticnet_2 <- cv.glmnet(x2, y2, alpha = 0.5)"
   ]
  },
  {
   "cell_type": "code",
   "execution_count": 15,
   "id": "044dbae3",
   "metadata": {},
   "outputs": [
    {
     "data": {
      "image/png": "[encoded data removed]",
      "text/plain": [
       "Plot with title \"Elastic Net (Plot 1)\""
      ]
     },
     "metadata": {
      "image/png": {
       "height": 420,
       "width": 420
      }
     },
     "output_type": "display_data"
    }
   ],
   "source": [
    "# Function to plot cv.glmnet results\n",
    "plot_glmnet <- function(cv_model, model_name) {\n",
    "  plot_data <- data.frame(lambda = cv_model$lambda, \n",
    "                          cvm = cv_model$cvm, \n",
    "                          cvsd = cv_model$cvsd, \n",
    "                          lower = cv_model$cvm - cv_model$cvsd,\n",
    "                          upper = cv_model$cvm + cv_model$cvsd)\n",
    "  \n",
    "  plot(log(plot_data$lambda), plot_data$cvm, type = 'l', xlab = \"log(lambda)\", ylab = \"cvm\", main = model_name,\n",
    "       ylim = range(plot_data$lower, plot_data$upper))\n",
    "  lines(log(plot_data$lambda), plot_data$lower, lty = 2)\n",
    "  lines(log(plot_data$lambda), plot_data$upper, lty = 2)\n",
    "}\n",
    "\n",
    "# Plot the ridge, lasso, and elastic net models for plot1\n",
    "par(mfrow = c(1, 3)) # Set up the plotting area for three plots side by side\n",
    "plot_glmnet(cv_ridge_1, \"Ridge (Plot 1)\")\n",
    "plot_glmnet(cv_lasso_1, \"Lasso (Plot 1)\")\n",
    "plot_glmnet(cv_elasticnet_1, \"Elastic Net (Plot 1)\")"
   ]
  },
  {
   "cell_type": "markdown",
   "id": "cb5519ae",
   "metadata": {},
   "source": [
    "The third model examines the relationship between `overtime` and the `No_of_workers`. The **Ridge**, **Lasso**, and **Elastic Net** regression models all indicate a consistent positive linear relationship between these variables, suggesting that as the number of workers increases, the amount of overtime also tends to increase."
   ]
  },
  {
   "cell_type": "markdown",
   "id": "8b92cfa5",
   "metadata": {},
   "source": [
    "## **Idle Time and Idle Men**"
   ]
  },
  {
   "cell_type": "code",
   "execution_count": 16,
   "id": "f937cf86",
   "metadata": {},
   "outputs": [
    {
     "data": {
      "image/png": "[encoded data removed]",
      "text/plain": [
       "Plot with title \"Elastic Net (Plot 2)\""
      ]
     },
     "metadata": {
      "image/png": {
       "height": 420,
       "width": 420
      }
     },
     "output_type": "display_data"
    }
   ],
   "source": [
    "# Plot the ridge, lasso, and elastic net models for plot2\n",
    "par(mfrow = c(1, 3)) # Set up the plotting area for three plots side by side\n",
    "plot_glmnet(cv_ridge_2, \"Ridge (Plot 2)\")\n",
    "plot_glmnet(cv_lasso_2, \"Lasso (Plot 2)\")\n",
    "plot_glmnet(cv_elasticnet_2, \"Elastic Net (Plot 2)\")"
   ]
  },
  {
   "cell_type": "markdown",
   "id": "9be09871",
   "metadata": {},
   "source": [
    "The fourth model explores the relationship between `idle_time` and `idle_men`. The **Ridge**, **Lasso**, and **Elastic Net** regression models all suggest a consistent positive linear relationship between these variables, indicating that as the number of idle men increases, the amount of idle time also tends to increase."
   ]
  },
  {
   "cell_type": "markdown",
   "id": "52d25ae9",
   "metadata": {},
   "source": [
    "## Conclusion\n",
    "\n",
    "The lower-dimensional models provide valuable insights into the relationships between the selected variables. The results suggest that the department is a significant predictor of both the standard minute value and the number of workers. Additionally, there is a consistent positive linear relationship between overtime and the number of workers, as well as between idle time and idle men. These findings provide a foundation for further exploration in higher-dimensional models.\n"
   ]
  },
  {
   "cell_type": "markdown",
   "id": "6267acb7",
   "metadata": {},
   "source": [
    "# **Building the full model**"
   ]
  },
  {
   "cell_type": "markdown",
   "id": "07c995c9",
   "metadata": {},
   "source": [
    "In the pursuit of a robust model for predicting the `actual_productivity` in the garment manufacturing industry, we employed a three-pronged approach. The first approach involved the use of cross-validation, the second approach involved traditional model building and evaluation techniques with a train-validation-test split, and the third approach incorporated Principal Component Analysis ($PCA$) to reduce the dimensionality of the dataset before applying a train-validation-test split."
   ]
  },
  {
   "cell_type": "markdown",
   "id": "ab1c377a",
   "metadata": {},
   "source": [
    "## Model Evaluation and Comparison - Cross Validation Approach\n",
    "\n",
    "In the first approach, we utilized cross-validation to assess the performance of various models. Cross-validation is a resampling procedure used to evaluate machine learning models on a limited data sample. The procedure has a single parameter called $k$ that refers to the number of groups that a given data sample is to be split into. This approach allowed us to use all of the data for both training and validation, providing a comprehensive overview of model performance.\n",
    "\n",
    "**Note**: we used this approach here to find out which models might be good to use and compare closely, after that, we will pick the ones that performed good and test them again using a different method than only cross validation."
   ]
  },
  {
   "cell_type": "markdown",
   "id": "a123afe5",
   "metadata": {},
   "source": [
    "![Image description](diag3.jpg)"
   ]
  },
  {
   "cell_type": "markdown",
   "id": "c2b10d9e",
   "metadata": {},
   "source": [
    "The models were compared based on their performance metrics. The analysis of **MSE**, **RMSE**, and **MAE** values allowed for the identification of models that performed better in predicting actual productivity. The XGBoost model demonstrated superior performance, followed by the Generalized Additive Model ($gam$), k-Nearest Neighbors ($knn$), and Elastic Net.\n",
    "\n",
    "The XGBoost model emerged as the most accurate in predicting the actual productivity of teams in the garment industry, based on the evaluation metrics. This model's superior performance suggests its potential utility for further analysis and decision-making in the context of productivity prediction in the garment industry. \n",
    "\n",
    "**Note:** Feature selection techniques were applied, but no significant improvements were observed in the model performances."
   ]
  },
  {
   "cell_type": "markdown",
   "id": "731981b1",
   "metadata": {},
   "source": [
    "## Splitting Data into Training, Validation, and Test sets.\n",
    "\n",
    "In the second approach, we built and evaluated several models, including Linear, Elastic Net, Random Forest, Generalized Additive Models ($gam$), and k-Nearest Neighbors ($knn$). The models were evaluated based on three performance metrics: Mean Squared Error (**MSE**), Root Mean Squared Error (**RMSE**), and Mean Absolute Error (**MAE**)."
   ]
  },
  {
   "cell_type": "code",
   "execution_count": 17,
   "id": "a7d2204e",
   "metadata": {},
   "outputs": [],
   "source": [
    "# Step 1: Split the dataset into train, validation, and test sets\n",
    "set.seed(42)\n",
    "trainIndex <- createDataPartition(garment_data_rf$actual_productivity, p = 0.7, list = FALSE, times = 1)\n",
    "trainData <- garment_data_rf[trainIndex,]\n",
    "tempData <- garment_data_rf[-trainIndex,]\n",
    "\n",
    "valIndex <- createDataPartition(tempData$actual_productivity, p = 0.5, list = FALSE, times = 1)\n",
    "valData <- tempData[valIndex,]\n",
    "testData <- tempData[-valIndex,]\n",
    "\n",
    "# Define training control\n",
    "control <- trainControl(method = \"cv\", number = 10)"
   ]
  },
  {
   "cell_type": "code",
   "execution_count": 18,
   "id": "995847eb",
   "metadata": {},
   "outputs": [],
   "source": [
    "# Elastic Net\n",
    "model_elasticnet <- train(actual_productivity ~ ., data = trainData,\n",
    "                          method = \"glmnet\",\n",
    "                          trControl = control,\n",
    "                          tuneLength = 10)"
   ]
  },
  {
   "cell_type": "code",
   "execution_count": 19,
   "id": "6eeeff34",
   "metadata": {},
   "outputs": [],
   "source": [
    "# Random Forest\n",
    "model_rf <- train(actual_productivity ~ ., data = trainData,\n",
    "                  method = \"rf\",\n",
    "                  trControl = control,\n",
    "                  tuneLength = 5)"
   ]
  },
  {
   "cell_type": "code",
   "execution_count": 20,
   "id": "fa6d629f",
   "metadata": {},
   "outputs": [],
   "source": [
    "# Generalized Additive Model (GAM)\n",
    "model_gam <- train(actual_productivity ~ ., data = trainData,\n",
    "                   method = \"gam\",\n",
    "                   trControl = control,\n",
    "                   tuneLength = 5)"
   ]
  },
  {
   "cell_type": "code",
   "execution_count": 21,
   "id": "3c8433be",
   "metadata": {},
   "outputs": [],
   "source": [
    "# k-Nearest Neighbors (kNN)\n",
    "model_knn <- train(actual_productivity ~ ., data = trainData,\n",
    "                   method = \"knn\",\n",
    "                   trControl = control,\n",
    "                   tuneLength = 10)"
   ]
  },
  {
   "cell_type": "code",
   "execution_count": 22,
   "id": "505b8f4b",
   "metadata": {},
   "outputs": [],
   "source": [
    "# Step 4: Evaluate models on the validation set\n",
    "models <- list(elasticnet = model_elasticnet, rf = model_rf, gam = model_gam, \n",
    "               knn = model_knn)\n",
    "\n",
    "# Step 4: Evaluate models on the validation set\n",
    "val_predictions <- lapply(models, function(model) predict(model, newdata = valData))\n",
    "\n",
    "# Calculate performance metrics for each model\n",
    "val_metrics <- lapply(val_predictions, function(pred) {\n",
    "  actual <- valData$actual_productivity\n",
    "  mse <- mean((pred - actual)^2)\n",
    "  rmse <- sqrt(mse)\n",
    "  mae <- mean(abs(pred - actual))\n",
    "  data.frame(MSE = mse, RMSE = rmse, MAE = mae)\n",
    "})\n",
    "\n",
    "# Combine metrics into a single data frame\n",
    "val_metrics_df <- do.call(rbind, val_metrics)"
   ]
  },
  {
   "cell_type": "code",
   "execution_count": 23,
   "id": "9e6fe015",
   "metadata": {},
   "outputs": [
    {
     "name": "stdout",
     "output_type": "stream",
     "text": [
      "Best model: rf \n"
     ]
    }
   ],
   "source": [
    "# Step 5: Pick the best model based on the lowest RMSE value\n",
    "best_model_name <- rownames(val_metrics_df)[which.min(val_metrics_df$RMSE)]\n",
    "cat(\"Best model:\", best_model_name, \"\\n\")"
   ]
  },
  {
   "cell_type": "code",
   "execution_count": 24,
   "id": "3cc5f06b",
   "metadata": {},
   "outputs": [
    {
     "data": {
      "image/png": "[encoded data removed]",
      "text/plain": [
       "plot without title"
      ]
     },
     "metadata": {
      "image/png": {
       "height": 420,
       "width": 420
      }
     },
     "output_type": "display_data"
    }
   ],
   "source": [
    "# Convert row names into a separate column\n",
    "val_metrics_df$Model <- rownames(val_metrics_df)\n",
    "\n",
    "# Reshape the data for plotting\n",
    "val_metrics_long <- reshape2::melt(val_metrics_df, id.vars = \"Model\")\n",
    "\n",
    "# Create a color scheme for the bars\n",
    "colors <- c(\"steelblue\", \"darkorange\", \"firebrick\")\n",
    "\n",
    "# Create a bar plot using ggplot2\n",
    "ggplot(val_metrics_long, aes(fill=variable, y=value, x=Model)) + \n",
    "  geom_bar(position=\"dodge\", stat=\"identity\") +\n",
    "  scale_fill_manual(values=colors) +\n",
    "  theme_minimal() +\n",
    "  labs(x = \"Model\", y = \"Value\", fill = \"Metric\",\n",
    "       title = \"Performance Metrics for Models on Validation Set - PCA\")"
   ]
  },
  {
   "cell_type": "code",
   "execution_count": 25,
   "id": "9cadb7b9",
   "metadata": {},
   "outputs": [
    {
     "name": "stdout",
     "output_type": "stream",
     "text": [
      "RMSE: 0.09549829 \n",
      "R2: 0.6793684 \n",
      "MAE: 0.0623791 \n",
      "MSE: 0.009119923 \n"
     ]
    }
   ],
   "source": [
    "# Step 6: Evaluate the best model on the test set\n",
    "best_predictions <- predict(models[[best_model_name]], newdata = testData)\n",
    "testData$predictions <- best_predictions\n",
    "\n",
    "# Calculate performance metrics\n",
    "RMSE <- sqrt(mean((testData$actual_productivity - testData$predictions)^2))\n",
    "R2 <- cor(testData$actual_productivity, testData$predictions)^2\n",
    "MAE <- mean(abs(testData$actual_productivity - testData$predictions))\n",
    "MSE <- mean((testData$actual_productivity - testData$predictions)^2)\n",
    "\n",
    "cat(\"RMSE:\", RMSE, \"\\n\")\n",
    "cat(\"R2:\", R2, \"\\n\")\n",
    "cat(\"MAE:\", MAE, \"\\n\")\n",
    "cat(\"MSE:\", MSE, \"\\n\")"
   ]
  },
  {
   "cell_type": "markdown",
   "id": "a91667e3",
   "metadata": {},
   "source": [
    "### Model Evaluation Results On The Validation Set\n",
    "\n",
    "| Model       | MSE        | RMSE       | MAE        |\n",
    "|-------------|------------|------------|------------|\n",
    "| Linear      | 0.01618840 | 0.12723364 | 0.09754545 |\n",
    "| Elastic Net | 0.01642055 | 0.12814271 | 0.09757769 |\n",
    "| Random Forest | 0.00963338 | 0.09814978 | 0.06499723 |\n",
    "| GAM         | 0.01017540 | 0.10087318 | 0.07476922 |\n",
    "| KNN         | 0.02403048 | 0.15501768 | 0.11712349 |\n",
    "\n",
    "The Random Forest model emerged as the most accurate, with the lowest values across all three metrics on the validation set. \n",
    "\n",
    "When tested on an unseen test set, the model maintained its superior performance, explaining approximately $68$% of the variability in the data.\n",
    "\n",
    "In conclusion, the **Random Forest** model appears to be the best model for predicting the actual productivity in this case."
   ]
  },
  {
   "cell_type": "markdown",
   "id": "e0e62fff",
   "metadata": {},
   "source": [
    "## Principal Component Analysis $\\rightarrow$ Splitting Data into Training, Validation, and Test sets.\n",
    "\n",
    "In the third approach, we applied $PCA$ to the dataset before repeating the model building and evaluation process. $PCA$ is a statistical procedure that uses an orthogonal transformation to convert a set of observations of possibly correlated variables into a set of values of linearly uncorrelated variables called principal components. This transformation is defined in such a way that the first principal component has the largest possible variance, and each succeeding component in turn has the highest variance possible under the constraint that it is orthogonal to the preceding components. The resulting vectors are an uncorrelated orthogonal basis set."
   ]
  },
  {
   "cell_type": "markdown",
   "id": "0de2d356",
   "metadata": {},
   "source": [
    "### Model Evaluation Results with PCA on The Validation Set\n",
    "\n",
    "The table below shows the performance of different models on the validation set after applying Principal Component Analysis ($PCA$). The performance metrics used are Mean Squared Error (**MSE**), Root Mean Squared Error (**RMSE**), and Mean Absolute Error (**MAE**).\n",
    "\n",
    "| Model       | MSE        | RMSE       | MAE        |\n",
    "|-------------|------------|------------|------------|\n",
    "| Linear      | 0.016188398 | 0.12723364 | 0.09754545 |\n",
    "| Elastic Net | 0.016429914 | 0.12817923 | 0.09759515 |\n",
    "| Random Forest | 0.009803949 | 0.09901489 | 0.06604709 |\n",
    "| GAM         | 0.009630718 | 0.09813622 | 0.07321071 |\n",
    "| KNN         | 0.023067429 | 0.15187965 | 0.11245924 |\n",
    "\n",
    "After applying PCA, the Generalized Additive Model ($gam$) performed the best on the validation set. However, when tested on the test set, the Random Forest model, which was the second best on the validation set, outperformed the $gam$ model. This suggests that while the $gam$ model was able to capture more complex relationships in the validation set, the Random Forest model was more effective at generalizing to unseen data.\n",
    "\n",
    "In conclusion, while the $gam$ model performed best on the validation set, the Random Forest model showed better generalization on the test set. This highlights the importance of evaluating models on a separate test set to assess their ability to generalize to unseen data."
   ]
  },
  {
   "cell_type": "markdown",
   "id": "770b32b1",
   "metadata": {},
   "source": [
    "## Final Thoughts\n",
    "\n",
    "In conclusion, for this specific dataset and task, the Random Forest model without $PCA$ yielded the best performance on the test set, indicating superior generalization. This suggests that for this particular dataset, preserving the original features without dimensionality reduction was advantageous.\n",
    "\n",
    "However, it is crucial to note that the optimal approach can vary depending on the specific dataset, task, and requirements. Both $PCA$ and non-$PCA$ methods have their respective advantages and can be suitable in different scenarios. $PCA$ can be particularly beneficial when dealing with high-dimensional data or when attempting to visualize complex patterns in the data. As always, it is a best practice to experiment with different approaches and select the one that best aligns with the specific needs and objectives of the study."
   ]
  },
  {
   "cell_type": "markdown",
   "id": "8d6b4291",
   "metadata": {},
   "source": [
    "# Task 2 - Classification"
   ]
  },
  {
   "cell_type": "markdown",
   "id": "5f61b7ec",
   "metadata": {},
   "source": [
    "In the context of this research, we propose a novel approach to transform the regression problem of predicting `actual_productivity`, which is a continuous variable $\\in$ $[0 , 1]$ , into a binary classification problem. This transformation is achieved by setting a threshold of $0.8$ on the `actual_productivity`. If the `actual_productivity` is greater than or equal to $0.8$, it is classified as 1, indicating **high productivity**. Conversely, if the predicted productivity falls below this threshold, it is classified as $0$, indicating **lower productivity**."
   ]
  },
  {
   "cell_type": "code",
   "execution_count": 26,
   "id": "757000e9",
   "metadata": {},
   "outputs": [
    {
     "name": "stdout",
     "output_type": "stream",
     "text": [
      "The percentage is: 47.28488"
     ]
    }
   ],
   "source": [
    "# Compute the percentage of values >= 0.8 in the column \"actual_productivity\"\n",
    "percentage_greater_equal <- mean(garment_data_rf$actual_productivity >= 0.8) * 100\n",
    "# Print the percentage\n",
    "cat(\"The percentage is:\", percentage_greater_equal)"
   ]
  },
  {
   "cell_type": "markdown",
   "id": "89bef38e",
   "metadata": {},
   "source": [
    "However, upon further consideration, we recognize that this approach may not be the most suitable for our research objective. The primary limitation is that it does not account for the variability in worker performance and task difficulty. It is plausible that the human resources department has hired workers with varying productivity levels, or that a general threshold is not applicable due to differences in tasks. Moreover, the percentage of observed values in the `actual_productivity` column that are greater than $0.8$ is less than $50$%, which raises concerns about the validity of the threshold approach."
   ]
  },
  {
   "cell_type": "markdown",
   "id": "43d63ebb",
   "metadata": {},
   "source": [
    "## Another Approach"
   ]
  },
  {
   "cell_type": "markdown",
   "id": "b9643615",
   "metadata": {},
   "source": [
    "To address these limitations, we propose a more nuanced approach that considers the `targeted_productivity`, which is the productivity level set by the authority for a specific task, as a benchmark to determine whether a team has been productive. We suggest creating a new binary variable, `productive`, which will be set to $1$ if the `actual_productivity` exceeds the `targeted_productivity`, and $0$ otherwise. This approach acknowledges the differences in task difficulty, as the authority likely set the `targeted_productivity` with this consideration in mind.\n",
    "\n",
    "\\begin{equation}\n",
    "productive = \n",
    "\\left\\{\n",
    "    \\begin{array}{lr}\n",
    "        1, & \\text{if } actual \\geqslant targeted\\\\\n",
    "        0, & \\text{if } actual < targeted\n",
    "    \\end{array}\n",
    "\\right\\}\n",
    "\\end{equation}\n",
    "\n",
    "To implement this approach, we will create the new target column `productive` and subsequently remove the `actual_productivity` and `targeted_productivity` columns from the dataset. This adjustment aligns the dataset with our revised research objective."
   ]
  },
  {
   "cell_type": "markdown",
   "id": "6f3dd510",
   "metadata": {},
   "source": [
    "![Image description](diag4.jpg)"
   ]
  },
  {
   "cell_type": "code",
   "execution_count": 27,
   "id": "9af0086d",
   "metadata": {},
   "outputs": [
    {
     "name": "stdout",
     "output_type": "stream",
     "text": [
      "Let's see the percentage of teams that were productive in the dataset:  0.7259816"
     ]
    }
   ],
   "source": [
    "# Create a new column \"productive\" based on the condition\n",
    "garment_data_class <- dplyr::mutate(garment_data_rf, productive = ifelse(actual_productivity > targeted_productivity, 1, 0))\n",
    "\n",
    "# Then remove the columns \"actual_productivity\" and \"targeted_productivity\"\n",
    "garment_data_class <- dplyr::select(garment_data_class, -actual_productivity, -targeted_productivity)\n",
    "\n",
    "cat(\"Let's see the percentage of teams that were productive in the dataset: \", mean(garment_data_class$productive))"
   ]
  },
  {
   "cell_type": "code",
   "execution_count": 28,
   "id": "0db11a73",
   "metadata": {},
   "outputs": [],
   "source": [
    "# converting it into a factor\n",
    "garment_data_class$productive <- as.factor(garment_data_class$productive)"
   ]
  },
  {
   "cell_type": "markdown",
   "id": "71365d11",
   "metadata": {},
   "source": [
    "Contrary to initial assumptions, $\\approx$ $70$% of the workers are not underperforming. This finding was obtained by considering the productivity benchmarks set by the Authority. It appears that a majority of the workers are able to meet or exceed these productivity targets, suggesting a high level of compliance within the workforce.\n",
    "\n",
    "This observation prompts us to reconsider our analytical approach. Given that a large proportion of workers are meeting productivity targets, it may be more appropriate to frame this as a classification problem rather than a regression problem. In other words, instead of predicting the exact productivity level, we could focus on predicting whether a worker is likely to meet the productivity target.\n",
    "\n",
    "In the following sections, we will explore this classification approach and compare its results with those obtained from the regression approach."
   ]
  },
  {
   "cell_type": "code",
   "execution_count": 29,
   "id": "c2849eb0",
   "metadata": {},
   "outputs": [],
   "source": [
    "# Step 1: Split the dataset into train, validation, and test sets\n",
    "set.seed(42)\n",
    "trainIndex <- createDataPartition(garment_data_class$productive, p = 0.7, list = FALSE, times = 1)\n",
    "trainData <- garment_data_class[trainIndex,]\n",
    "tempData <- garment_data_class[-trainIndex,]\n",
    "\n",
    "valIndex <- createDataPartition(tempData$productive, p = 0.5, list = FALSE, times = 1)\n",
    "valData <- tempData[valIndex,]\n",
    "testData <- tempData[-valIndex,]\n",
    "\n",
    "# Define training control\n",
    "control <- trainControl(method = \"cv\", number = 10)"
   ]
  },
  {
   "cell_type": "code",
   "execution_count": 30,
   "id": "a65e174e",
   "metadata": {},
   "outputs": [],
   "source": [
    "# Step 3: Train models\n",
    "\n",
    "# Linear model with AIC\n",
    "model_glm <- train(productive ~ ., data = trainData,\n",
    "                   method = \"glmStepAIC\",\n",
    "                   trControl = control,\n",
    "                   family = binomial, # specify family = binomial for logistic regression\n",
    "                   trace = FALSE) # trace = FALSE to minimize output during stepwise selection"
   ]
  },
  {
   "cell_type": "code",
   "execution_count": 31,
   "id": "812260cf",
   "metadata": {},
   "outputs": [],
   "source": [
    "# Elastic Net\n",
    "model_elasticnet <- train(productive ~ ., data = trainData,\n",
    "                          method = \"glmnet\",\n",
    "                          trControl = control,\n",
    "                          tuneLength = 10,\n",
    "                          family = \"binomial\") "
   ]
  },
  {
   "cell_type": "code",
   "execution_count": 32,
   "id": "c6b277ef",
   "metadata": {},
   "outputs": [],
   "source": [
    "# Random Forest\n",
    "model_rf <- train(productive ~ ., data = trainData,\n",
    "                  method = \"rf\",\n",
    "                  trControl = control,\n",
    "                  tuneLength = 5)"
   ]
  },
  {
   "cell_type": "code",
   "execution_count": 33,
   "id": "31b4a805",
   "metadata": {},
   "outputs": [],
   "source": [
    "# Generalized Additive Model (GAM)\n",
    "model_gam <- train(productive ~ ., data = trainData,\n",
    "                   method = \"gam\",\n",
    "                   trControl = control,\n",
    "                   tuneLength = 5)"
   ]
  },
  {
   "cell_type": "code",
   "execution_count": 34,
   "id": "55e21d98",
   "metadata": {},
   "outputs": [],
   "source": [
    "# k-Nearest Neighbors (kNN)\n",
    "model_knn <- train(productive ~ ., data = trainData,\n",
    "                   method = \"knn\",\n",
    "                   trControl = control,\n",
    "                   tuneLength = 10)"
   ]
  },
  {
   "cell_type": "code",
   "execution_count": 35,
   "id": "5f2ca832",
   "metadata": {},
   "outputs": [],
   "source": [
    "# Step 4: Evaluate models on the validation set\n",
    "models <- list(linear = model_glm, elasticnet = model_elasticnet, rf = model_rf, gam = model_gam, \n",
    "               knn = model_knn)\n",
    "\n",
    "val_predictions <- lapply(models, function(model) predict(model, newdata = valData, type = \"prob\"))\n",
    "\n",
    "# Calculate performance metrics for each model\n",
    "val_metrics <- suppressMessages(lapply(val_predictions, function(pred) {\n",
    "  actual <- valData$productive\n",
    "  pred_binary <- ifelse(pred[,2] > 0.5, 1, 0) # Convert predicted probabilities to binary predictions\n",
    "  accuracy <- mean(pred_binary == actual)\n",
    "  auc <- pROC::auc(pROC::roc(actual, pred[,2])) # Use probabilities for the positive class\n",
    "  f1 <- F1_Score(y_pred = pred_binary, y_true = actual) # Use F1_Score from MLmetrics package\n",
    "  data.frame(Accuracy = accuracy, AUC = auc, F1 = f1)\n",
    "}))\n",
    "\n",
    "# Combine metrics into a single data frame\n",
    "val_metrics_df <- do.call(rbind, val_metrics)"
   ]
  },
  {
   "cell_type": "code",
   "execution_count": 36,
   "id": "5f2b1a53",
   "metadata": {},
   "outputs": [
    {
     "name": "stdout",
     "output_type": "stream",
     "text": [
      "Best model: rf \n"
     ]
    }
   ],
   "source": [
    "# Step 5: Pick the best model based on the lowest RMSE value\n",
    "best_model_name <- rownames(val_metrics_df)[which.max(val_metrics_df$AUC)]\n",
    "cat(\"Best model:\", best_model_name, \"\\n\")"
   ]
  },
  {
   "cell_type": "code",
   "execution_count": 37,
   "id": "3b360b1a",
   "metadata": {},
   "outputs": [
    {
     "data": {
      "image/png": "[encoded data removed]",
      "text/plain": [
       "plot without title"
      ]
     },
     "metadata": {
      "image/png": {
       "height": 420,
       "width": 420
      }
     },
     "output_type": "display_data"
    }
   ],
   "source": [
    "# Convert row names into a separate column\n",
    "val_metrics_df$Model <- rownames(val_metrics_df)\n",
    "\n",
    "# Reshape the data for plotting\n",
    "val_metrics_long <- reshape2::melt(val_metrics_df, id.vars = \"Model\")\n",
    "\n",
    "# Create a color scheme for the bars\n",
    "colors <- c(\"steelblue\", \"darkorange\", \"firebrick\")\n",
    "\n",
    "# Create a bar plot using ggplot2\n",
    "ggplot(val_metrics_long, aes(fill=variable, y=value, x=Model)) + \n",
    "  geom_bar(position=\"dodge\", stat=\"identity\") +\n",
    "  scale_fill_manual(values=colors) +\n",
    "  theme_minimal() +\n",
    "  labs(x = \"Model\", y = \"Value\", fill = \"Metric\",\n",
    "       title = \"Performance Metrics for Models on Validation Set\") +\n",
    "  geom_text(aes(label=round(value, 2)), vjust=1.6, color=\"black\", position = position_dodge(0.9), size=3.5)\n"
   ]
  },
  {
   "cell_type": "code",
   "execution_count": 38,
   "id": "ecd033de",
   "metadata": {},
   "outputs": [
    {
     "name": "stderr",
     "output_type": "stream",
     "text": [
      "Setting levels: control = 0, case = 1\n",
      "\n",
      "Setting direction: controls < cases\n",
      "\n"
     ]
    },
    {
     "name": "stdout",
     "output_type": "stream",
     "text": [
      "Accuracy: 0.7932961 \n",
      "AUC: 0.8264521 \n",
      "F1: 0.6105263 \n"
     ]
    }
   ],
   "source": [
    "# Step 6: Evaluate the best model on the test set\n",
    "best_predictions <- predict(models[[best_model_name]], newdata = testData, type = \"prob\")\n",
    "\n",
    "# Convert predicted probabilities to binary predictions\n",
    "testData$predictions <- ifelse(best_predictions[,2] > 0.5, 1, 0)\n",
    "\n",
    "# Calculate performance metrics\n",
    "accuracy <- mean(testData$predictions == testData$productive)\n",
    "auc <- pROC::auc(pROC::roc(testData$productive, best_predictions[,2]))\n",
    "f1 <- F1_Score(y_pred = testData$predictions, y_true = testData$productive)\n",
    "\n",
    "cat(\"Accuracy:\", accuracy, \"\\n\")\n",
    "cat(\"AUC:\", auc, \"\\n\")\n",
    "cat(\"F1:\", f1, \"\\n\")"
   ]
  },
  {
   "cell_type": "markdown",
   "id": "3e5519e7",
   "metadata": {},
   "source": [
    "## Performance Analysis on the Validation Set\n",
    "\n",
    "In the context of this statistical analysis, we evaluated the performance of various classification models on the validation set. The performance metrics used for this evaluation were **Accuracy**, **Area Under the ROC Curve** ($AUC$), and $F1$ **Score**. These metrics provide a comprehensive assessment of the models' performance from different perspectives.\n",
    "\n",
    "The table below presents the performance metrics for each model:\n",
    "\n",
    "| Model | Accuracy | AUC | F1 Score |\n",
    "|-------|----------|-----|----------|\n",
    "| Linear | 0.754 | 0.746 | 0.346 |\n",
    "| Elastic Net | 0.760 | 0.749 | 0.346 |\n",
    "| Random Forest | 0.799 | 0.848 | 0.601 |\n",
    "| GAM | 0.793 | 0.838 | 0.549 |\n",
    "| KNN | 0.726 | 0.700 | 0.270 |\n",
    "\n",
    "The Random Forest model exhibited superior performance in terms of $AUC$, a metric that evaluates the performance of binary classification models by considering both the true positive rate and the false positive rate. Meanwhile, the Generalized Additive Model ($gam$) achieved the highest $F1$ **Score**, a measure of a test's accuracy that considers both precision and recall.\n",
    "\n",
    "Upon evaluating the Random Forest model on the test set, it achieved an **Accuracy** of $0.7932$, an $AUC$ of $0.8264$, and an $F1$ **Score** of $0.6105$. These results suggest that the model effectively generalizes to unseen data and balances precision and recall effectively."
   ]
  },
  {
   "cell_type": "markdown",
   "id": "425c27e4",
   "metadata": {},
   "source": [
    "## Comparison with Regression Results and Final Thoughts\n",
    "\n",
    "Comparing these results with those of the regression task, it is evident that the classification approach provides a more straightforward interpretation of the results. While the regression models predicted the actual productivity as a continuous value, the classification models predict whether a team is productive or not, which may be more useful for decision-making purposes.\n",
    "\n",
    "In terms of model performance, the Random Forest model also stood out in the regression task, indicating its robustness and versatility for different types of tasks. This suggests that the Random Forest model is a reliable choice for predicting team productivity in the garment industry, regardless of whether the task is regression or classification."
   ]
  }
 ],
 "metadata": {
  "kernelspec": {
   "display_name": "R",
   "language": "R",
   "name": "ir"
  },
  "language_info": {
   "codemirror_mode": "r",
   "file_extension": ".r",
   "mimetype": "text/x-r-source",
   "name": "R",
   "pygments_lexer": "r",
   "version": "4.3.0"
  },
  "latex_metadata": {
   "documentclass": "\\documentclass[8pt]{article}"
  },
  "pdf": {
   "numbering": false
  }
 },
 "nbformat": 4,
 "nbformat_minor": 5
}
